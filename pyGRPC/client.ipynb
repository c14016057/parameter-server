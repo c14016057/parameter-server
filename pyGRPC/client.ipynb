{
 "cells": [
  {
   "cell_type": "code",
   "execution_count": 1,
   "metadata": {},
   "outputs": [],
   "source": [
    "from __future__ import print_function\n",
    "\n",
    "import grpc\n",
    "import keyvector_pb2\n",
    "import keyvector_pb2_grpc\n",
    "\n",
    "MAX_KEY = 5000\n",
    "MAX_VALUE = 1000\n",
    "def run():\n",
    "    channel = grpc.insecure_channel('140.112.30.241:50051')\n",
    "    stub = keyvector_pb2_grpc.pushPullRequestStub(channel)\n",
    "    \n",
    "    msg = keyvector_pb2.keyVectorMessage()\n",
    "    for i in range(0, MAX_KEY):\n",
    "        msg.key.append(i)\n",
    "        for j in range(0, MAX_VALUE):\n",
    "            msg.val.append(0.1)            \n",
    "    \n",
    "    msg.iter = 1\n",
    "    \n",
    "    response = stub.push(msg)\n",
    "    \n",
    "    print('Pushed.\\n')\n",
    "\n",
    "\n"
   ]
  },
  {
   "cell_type": "code",
   "execution_count": null,
   "metadata": {
    "collapsed": true
   },
   "outputs": [],
   "source": []
  },
  {
   "cell_type": "code",
   "execution_count": null,
   "metadata": {
    "collapsed": true
   },
   "outputs": [],
   "source": []
  }
 ],
 "metadata": {
  "kernelspec": {
   "display_name": "Python 3",
   "language": "python",
   "name": "python3"
  },
  "language_info": {
   "codemirror_mode": {
    "name": "ipython",
    "version": 3
   },
   "file_extension": ".py",
   "mimetype": "text/x-python",
   "name": "python",
   "nbconvert_exporter": "python",
   "pygments_lexer": "ipython3",
   "version": "3.5.2"
  }
 },
 "nbformat": 4,
 "nbformat_minor": 2
}
